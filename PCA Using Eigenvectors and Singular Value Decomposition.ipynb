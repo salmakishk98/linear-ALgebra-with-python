{
 "cells": [
  {
   "cell_type": "markdown",
   "metadata": {},
   "source": [
    "# Lab 5: PCA Using Eigenvectors and Singular Value Decomposition"
   ]
  },
  {
   "cell_type": "markdown",
   "metadata": {},
   "source": [
    "# First: you should run this cell"
   ]
  },
  {
   "cell_type": "code",
   "execution_count": 1,
   "metadata": {},
   "outputs": [],
   "source": [
    "# Make all numpy available via shorter 'np' prefix\n",
    "import numpy as np"
   ]
  },
  {
   "cell_type": "markdown",
   "metadata": {},
   "source": [
    "# Question 1 : PCA Using Eigenvectors\n",
    "\n",
    "#### Create a matrix contains the following data\n",
    "\n",
    "| | Feature #1 | Feature #2 | Feature #3 | Feature #4 |\n",
    "| --- | --- | --- | --- | --- |\n",
    "| **Sample #1** | 1 | 2 | 3 | 4 |\n",
    "| **Sample #2** | 5 | 5 | 6 | 7 |\n",
    "| **Sample #3**| 1 | 4 | 2 | 3 |\n",
    "| **Sample #4**| 5 | 3 | 2 | 1 |\n",
    "| **Sample #5**| 8 | 1 | 2 | 2 |"
   ]
  },
  {
   "cell_type": "code",
   "execution_count": 2,
   "metadata": {},
   "outputs": [
    {
     "name": "stdout",
     "output_type": "stream",
     "text": [
      "M = \n",
      "[[1 2 3 4]\n",
      " [5 5 6 7]\n",
      " [1 4 2 3]\n",
      " [5 3 2 1]\n",
      " [8 1 2 2]]\n",
      "\n"
     ]
    }
   ],
   "source": [
    "M = np.array([[1,2,3,4],\n",
    "              [5,5,6,7],\n",
    "              [1,4,2,3],\n",
    "              [5,3,2,1],\n",
    "              [8,1,2,2]])\n",
    "print('M = \\n{}\\n'.format(M))"
   ]
  },
  {
   "cell_type": "markdown",
   "metadata": {},
   "source": [
    "### Step 1: Standardize the dataset.\n",
    "- Calculate data mean for each feature.\n",
    "- Calculate data standard deviation for each feature.\n",
    "\n",
    "| | Feature #1 | Feature #2 | Feature #3 | Feature #4 |\n",
    "| --- | --- | --- | --- | --- |\n",
    "| **$\\mu$** | 4 | 3 | 3 | 3.4 |\n",
    "| **$\\sigma$**| 3 | 1.58114 | 1.73205 | 2.30217 |\n",
    "\n",
    "\n",
    "- Standardize the data.\n",
    "\n",
    "| | Feature #1 | Feature #2 | Feature #3 | Feature #4 |\n",
    "| --- | --- | --- | --- | --- |\n",
    "| **Sample #1** | -1.         | -0.63245553 |  0.         |  0.26062335 |\n",
    "| **Sample #2** |  0.33333333 | 1.26491106 |  1.73205081 |  1.56374007 |\n",
    "| **Sample #3** | -1.         | 0.63245553 | -0.57735027 | -0.1737489  |\n",
    "| **Sample #4** |  0.33333333 | 0.         | -0.57735027 | -1.04249338 |\n",
    "| **Sample #5** |  1.33333333 | -1.26491106 | -0.57735027 | -0.60812114 |\n",
    "\n",
    "\n"
   ]
  },
  {
   "cell_type": "code",
   "execution_count": 3,
   "metadata": {},
   "outputs": [
    {
     "data": {
      "text/plain": [
       "array([[4. , 3. , 3. , 3.4]])"
      ]
     },
     "execution_count": 3,
     "metadata": {},
     "output_type": "execute_result"
    }
   ],
   "source": [
    "# get mean of each feature\n",
    "mean = np.mean(M, axis = 0).reshape(1,M.shape[1]) # axis 0 mean for each column \n",
    "mean"
   ]
  },
  {
   "cell_type": "code",
   "execution_count": 4,
   "metadata": {},
   "outputs": [
    {
     "data": {
      "text/plain": [
       "array([[3.        , 1.58113883, 1.73205081, 2.30217289]])"
      ]
     },
     "execution_count": 4,
     "metadata": {},
     "output_type": "execute_result"
    }
   ],
   "source": [
    "# get std diviation for each feature \n",
    "std = np.std(M, axis = 0,ddof =1).reshape(1,M.shape[1]) \n",
    "#In standard statistical practice, ddof=1 provides an unbiased estimator of the variance of the infinite population. \n",
    "std "
   ]
  },
  {
   "cell_type": "code",
   "execution_count": 13,
   "metadata": {},
   "outputs": [
    {
     "data": {
      "text/plain": [
       "array([[-1.        , -0.63245553,  0.        ,  0.26062335],\n",
       "       [ 0.33333333,  1.26491106,  1.73205081,  1.56374007],\n",
       "       [-1.        ,  0.63245553, -0.57735027, -0.1737489 ],\n",
       "       [ 0.33333333,  0.        , -0.57735027, -1.04249338],\n",
       "       [ 1.33333333, -1.26491106, -0.57735027, -0.60812114]])"
      ]
     },
     "execution_count": 13,
     "metadata": {},
     "output_type": "execute_result"
    }
   ],
   "source": [
    "# get x which is (M-mean)/std\n",
    "# M(5,4) ====> mean(1,4) by broad cast it will rebeat 4 column in 5 row for each sample \n",
    "# the same will happen with std\n",
    "X = (M - mean)/std\n",
    "X"
   ]
  },
  {
   "cell_type": "markdown",
   "metadata": {},
   "source": [
    "### Step 2: Calculate the covariance matrix for the features in the dataset."
   ]
  },
  {
   "cell_type": "markdown",
   "metadata": {},
   "source": [
    "-  Calculate covariance matrix using the formula: $C = \\frac{X^TX}{n-1}$,  where $n$ is the number of data points.\n",
    "##### Note: This formula is used because the data has <b>zero</b> mean and <b>1</b> standard deviation.\n",
    "\n",
    "| | Feature #1 | Feature #2 | Feature #3 | Feature #4 |\n",
    "| --- | --- | --- | --- | --- |\n",
    "|**Feature #1** |  1.         | -0.31622777 |  0.04811252 | -0.18098843 |\n",
    "|**Feature #2** | -0.31622777 |  1.         |  0.63900965 |  0.61812254 |\n",
    "|**Feature #3** |  0.04811252 |  0.63900965 |  1.         |  0.94044349 |\n",
    "|**Feature #4** | -0.18098843 |  0.61812254 |  0.94044349 |  1.         |"
   ]
  },
  {
   "cell_type": "code",
   "execution_count": 14,
   "metadata": {},
   "outputs": [
    {
     "data": {
      "text/plain": [
       "array([[ 1.        , -0.31622777,  0.04811252, -0.18098843],\n",
       "       [-0.31622777,  1.        ,  0.63900965,  0.61812254],\n",
       "       [ 0.04811252,  0.63900965,  1.        ,  0.94044349],\n",
       "       [-0.18098843,  0.61812254,  0.94044349,  1.        ]])"
      ]
     },
     "execution_count": 14,
     "metadata": {},
     "output_type": "execute_result"
    }
   ],
   "source": [
    "# calculate covariance\n",
    "N = M.shape[0] # number of samples\n",
    "C = (X.T @ X)/(N-1)\n",
    "C"
   ]
  },
  {
   "cell_type": "code",
   "execution_count": 15,
   "metadata": {},
   "outputs": [
    {
     "name": "stdout",
     "output_type": "stream",
     "text": [
      "[[ 1.66666667  1.16666667  0.66666667 -2.16666667 -2.83333333]\n",
      " [ 1.16666667  0.91666667  0.16666667 -1.41666667 -1.25      ]\n",
      " [ 0.66666667  0.16666667  1.66666667 -1.16666667 -3.5       ]\n",
      " [-2.16666667 -1.41666667 -1.16666667  2.91666667  4.41666667]\n",
      " [-2.83333333 -1.25       -3.5         4.41666667 10.25      ]]\n"
     ]
    }
   ],
   "source": [
    "#check for correctance\n",
    "covMatrix = np.cov(M, ddof=1)\n",
    "print (covMatrix)"
   ]
  },
  {
   "cell_type": "markdown",
   "metadata": {},
   "source": [
    "### Step 3: Calculate the eigenvalues and eigenvectors for the covariance matrix and sort eigenvalues and their corresponding eigenvectors.\n",
    "\n",
    "- Find eigen values and the corresponding eigen vectors for the covariance matrix\n",
    "- Calculate how much variance captured in each component. $\\frac{\\lambda_j}{\\sum_{k=1}^{m}\\lambda_k}$, where $m$ is the number of features.\n",
    "\n",
    "| Eigenvector #1 | Eigenvector #2 | Eigenvector #3 | Eigenvector #4 |\n",
    "| --- | --- | --- | --- |\n",
    "| 0.16195986 | -0.91705888 | -0.30707099 |  0.19616173 |\n",
    "|-0.52404813 |  0.20692161 | -0.81731886 |  0.12061043 |\n",
    "|-0.58589647 | -0.3205394  |  0.1882497  | -0.72009851 |\n",
    "|-0.59654663 | -0.11593512 |  0.44973251 |  0.65454704 |"
   ]
  },
  {
   "cell_type": "code",
   "execution_count": 16,
   "metadata": {},
   "outputs": [],
   "source": [
    "# calculate egen value and vectors\n",
    "eigen_values, eigen_vectors = np.linalg.eig(C)"
   ]
  },
  {
   "cell_type": "code",
   "execution_count": 17,
   "metadata": {},
   "outputs": [
    {
     "data": {
      "text/plain": [
       "array([2.51579324, 1.0652885 , 0.39388704, 0.02503121])"
      ]
     },
     "execution_count": 17,
     "metadata": {},
     "output_type": "execute_result"
    }
   ],
   "source": [
    "eigen_values"
   ]
  },
  {
   "cell_type": "code",
   "execution_count": 18,
   "metadata": {},
   "outputs": [
    {
     "data": {
      "text/plain": [
       "array([[ 0.16195986, -0.91705888, -0.30707099,  0.19616173],\n",
       "       [-0.52404813,  0.20692161, -0.81731886,  0.12061043],\n",
       "       [-0.58589647, -0.3205394 ,  0.1882497 , -0.72009851],\n",
       "       [-0.59654663, -0.11593512,  0.44973251,  0.65454704]])"
      ]
     },
     "execution_count": 18,
     "metadata": {},
     "output_type": "execute_result"
    }
   ],
   "source": [
    "eigen_vectors"
   ]
  },
  {
   "cell_type": "code",
   "execution_count": 19,
   "metadata": {},
   "outputs": [
    {
     "data": {
      "text/plain": [
       "array([0.62894831, 0.26632213, 0.09847176, 0.0062578 ])"
      ]
     },
     "execution_count": 19,
     "metadata": {},
     "output_type": "execute_result"
    }
   ],
   "source": [
    "# calculate percentage which each eigen values contribute in calculating M\n",
    "lamda_sum = np.sum(eigen_values)\n",
    "Percentage_of_variance = eigen_values / lamda_sum\n",
    "Percentage_of_variance"
   ]
  },
  {
   "cell_type": "markdown",
   "metadata": {},
   "source": [
    "### Step 4: Pick $k$ eigenvalues and form a matrix of eigenvectors.\n",
    "\n",
    "- Select the first two eigen vectors"
   ]
  },
  {
   "cell_type": "code",
   "execution_count": 20,
   "metadata": {},
   "outputs": [
    {
     "data": {
      "text/plain": [
       "array([[ 0.16195986, -0.91705888],\n",
       "       [-0.52404813,  0.20692161],\n",
       "       [-0.58589647, -0.3205394 ],\n",
       "       [-0.59654663, -0.11593512]])"
      ]
     },
     "execution_count": 20,
     "metadata": {},
     "output_type": "execute_result"
    }
   ],
   "source": [
    "# take 2 eigen vector to be our principle component\n",
    "new_eigen_vectors = eigen_vectors[:,:2]\n",
    "new_eigen_vectors"
   ]
  },
  {
   "cell_type": "markdown",
   "metadata": {},
   "source": [
    "### Step 5:Transform the standardized matrix matrix.\n",
    "\n",
    "- `M_transformed = X @ eig_vecs_2`"
   ]
  },
  {
   "cell_type": "code",
   "execution_count": 21,
   "metadata": {},
   "outputs": [
    {
     "name": "stdout",
     "output_type": "stream",
     "text": [
      "[[ 0.014  0.756]\n",
      " [-2.557 -0.78 ]\n",
      " [-0.051  1.253]\n",
      " [ 1.014  0.   ]\n",
      " [ 1.58  -1.229]]\n"
     ]
    }
   ],
   "source": [
    "# Transform the eigen vectors for covariance using new_eigen_vectors =====> to transfer princple component \n",
    "M_transformed = X @ new_eigen_vectors\n",
    "print(np.round(M_transformed,3))"
   ]
  },
  {
   "cell_type": "markdown",
   "metadata": {},
   "source": [
    "# Question 2 : Singular Value Decomposition (SVD)\n",
    "\n",
    "#### For a square (real) matrices of size $(n,n)$ can be \"eigendecomposed\"  :\n",
    "$$A = V . Diag(\\Lambda). V^T$$\n",
    "\n",
    "With $V$: eigenvectors \n",
    "; $Diag(\\Lambda)$: eigenvalues (on the diagonal).\n",
    "\n",
    "#### But for a non square  of size $(n,m) (n \\neq m)$, we need to use the  Singular Value Decomposition (SVD)\n",
    "\n",
    "- Let $A $ be a matrix of size $(n,m)$ with  $n \\neq m$ the SVD of A is defined by:\n",
    "\n",
    "$$A= U . S . V^T $$\n",
    "\n",
    "Where:\n",
    " $U$: size $(n,n)$, square;\n",
    " $V$: size $(m,m)$, square;\n",
    " $S$: size $(n,m)$, rectanguler if $n \\neq m$\n",
    " \n",
    "- The values on the \"diagonal\" of $S$ are called: **singular values**. The singular values are generally sorted by decreasing order.\n",
    "- The columns of $U$ are called the **left-singular vectors**\n",
    "- The columns of $V$ are called the **right-singular vectors**"
   ]
  },
  {
   "cell_type": "markdown",
   "metadata": {},
   "source": [
    "#### (a) For the matrix $A$, find the SVD"
   ]
  },
  {
   "cell_type": "code",
   "execution_count": 94,
   "metadata": {},
   "outputs": [
    {
     "name": "stdout",
     "output_type": "stream",
     "text": [
      "n =  4\n",
      "---------------------------------------------\n",
      "m =  3\n",
      "---------------------------------------------\n",
      "rank =  3\n",
      "---------------------------------------------\n",
      "A = \n",
      " [[1 1 1]\n",
      " [3 4 5]\n",
      " [4 4 4]\n",
      " [4 5 4]]\n"
     ]
    }
   ],
   "source": [
    "A = np.array([[1, 1, 1],\n",
    "              [3, 4, 5],\n",
    "              [4, 4, 4],                            \n",
    "              [4, 5, 4]                      \n",
    "              ])\n",
    "rank = np.linalg.matrix_rank(A)\n",
    "n, m = A.shape\n",
    "print(\"n = \", n)\n",
    "print(\"---------------------------------------------\")\n",
    "print(\"m = \", m)\n",
    "print(\"---------------------------------------------\")\n",
    "print(\"rank = \", rank)\n",
    "print(\"---------------------------------------------\")\n",
    "print(\"A = \\n\", A)"
   ]
  },
  {
   "cell_type": "markdown",
   "metadata": {},
   "source": [
    "- `U, s, VT = np.linalg.svd(A, full_matrices=True)`"
   ]
  },
  {
   "cell_type": "code",
   "execution_count": 95,
   "metadata": {},
   "outputs": [
    {
     "name": "stdout",
     "output_type": "stream",
     "text": [
      " U = \n",
      "[[-0.138  0.065 -0.188 -0.97 ]\n",
      " [-0.56  -0.819  0.126 -0.   ]\n",
      " [-0.553  0.262 -0.753  0.243]\n",
      " [-0.601  0.507  0.618 -0.   ]]\n",
      "\n",
      " s = \n",
      "[12.49789499  1.23098537  0.53599988]\n",
      "\n",
      "VT = \n",
      "[[-0.51489647 -0.60782554 -0.60450785]\n",
      " [ 0.55486191  0.30122956 -0.77549276]\n",
      " [-0.65345993  0.73471687 -0.1821572 ]]\n",
      "\n"
     ]
    }
   ],
   "source": [
    "# get left values matrix and singular values and right values\n",
    "U, s, VT = np.linalg.svd(A, full_matrices=True)\n",
    "print(f\" U = \\n{np.round(U, 3)}\\n\")\n",
    "print(f\" s = \\n{s}\\n\")\n",
    "print(f\"VT = \\n{VT}\\n\")"
   ]
  },
  {
   "cell_type": "markdown",
   "metadata": {},
   "source": [
    "- Construct the matrix $A$ from the SVD:\n",
    "$$A= U . S . V^T $$\n",
    "Where:\n",
    " $U$: size $(n,n)$, square;\n",
    " $V$: size $(m,m)$, square;\n",
    " $S$: size $(n,m)$, rectanguler if $n \\neq m$"
   ]
  },
  {
   "cell_type": "code",
   "execution_count": 96,
   "metadata": {},
   "outputs": [],
   "source": [
    "# U->shape = (4,4)\n",
    "# S->shape = (1,3)===========> should be converted to (4*3)\n",
    "# v.T->shape = (3,3)"
   ]
  },
  {
   "cell_type": "code",
   "execution_count": 97,
   "metadata": {},
   "outputs": [
    {
     "name": "stdout",
     "output_type": "stream",
     "text": [
      "we have matrix S = \n",
      "[[12.49789499  0.          0.        ]\n",
      " [ 0.          1.23098537  0.        ]\n",
      " [ 0.          0.          0.53599988]\n",
      " [ 0.          0.          0.        ]]\n",
      " and with shape (4, 3)\n"
     ]
    }
   ],
   "source": [
    "# modify the shape of s\n",
    "# make diagonal matrix of s \n",
    "diagonal_form = np.diag(s) #====> shape(3,3)\n",
    "# add additional row\n",
    "S = np.vstack([diagonal_form,np.zeros((1,3))])\n",
    "print(f\"we have matrix S = \\n{S}\\n and with shape {S.shape}\")"
   ]
  },
  {
   "cell_type": "code",
   "execution_count": 98,
   "metadata": {},
   "outputs": [
    {
     "name": "stdout",
     "output_type": "stream",
     "text": [
      " reconstruct_A  = \n",
      "[[1. 1. 1.]\n",
      " [3. 4. 5.]\n",
      " [4. 4. 4.]\n",
      " [4. 5. 4.]]\n",
      "\n",
      " A  = \n",
      "[[1 1 1]\n",
      " [3 4 5]\n",
      " [4 4 4]\n",
      " [4 5 4]]\n",
      "\n"
     ]
    }
   ],
   "source": [
    "# so now we can get A from the equation \n",
    "reconstruct_A = U @ S @ VT\n",
    "print(f\" reconstruct_A  = \\n{np.round(reconstruct_A , 3)}\\n\")\n",
    "print(f\" A  = \\n{np.round(A , 3)}\\n\")"
   ]
  },
  {
   "cell_type": "markdown",
   "metadata": {},
   "source": [
    "#### $k$-rank approximation\n",
    "\n",
    "- Construct the matrix $\\tilde{A}$ using **$k$-rank approximation**.\n",
    "- Calculate the approximation error using frobenius norm.\n",
    "\n",
    "$$\\tilde{A}= \\tilde{U} . \\tilde{S} . \\tilde{V}^T $$\n",
    "Where:\n",
    " $\\tilde{U}$: size $(n,k)$,\n",
    "  $\\tilde{S}$: size $(k,k)$,\n",
    " $\\tilde{V}$: size $(k,m)$;\n"
   ]
  },
  {
   "cell_type": "code",
   "execution_count": 99,
   "metadata": {},
   "outputs": [],
   "source": [
    "# create new U, S, VT =====> Where:  𝑈̃  : size  (𝑛,𝑘) ,  𝑆̃  : size  (𝑘,𝑘) ,  𝑉̃  : size  (𝑘,𝑚)\n",
    "def A_approximate(k):\n",
    "    U_dash = U[:,:k]\n",
    "    S_dash = S[:k,:k]\n",
    "    VT_dash = VT[:k,:]\n",
    "    print(f\"number of singular values K = \\n{k}\\n\")\n",
    "    print(f\"we have matrix U = \\n{U}\\n and with shape {U.shape}\")\n",
    "    print(f\"we have matrix S = \\n{S}\\n and with shape {S.shape}\")\n",
    "    print(f\"we have matrix VT = \\n{VT}\\n and with shape {VT.shape}\")\n",
    "    return U_dash @ S_dash @ VT_dash"
   ]
  },
  {
   "cell_type": "code",
   "execution_count": 100,
   "metadata": {},
   "outputs": [
    {
     "name": "stdout",
     "output_type": "stream",
     "text": [
      "number of singular values K = \n",
      "3\n",
      "\n",
      "we have matrix U = \n",
      "[[-1.38201662e-01  6.54749524e-02 -1.88246808e-01 -9.70142500e-01]\n",
      " [-5.59976765e-01 -8.18823566e-01  1.26309104e-01 -1.33226763e-15]\n",
      " [-5.52806648e-01  2.61899810e-01 -7.52987231e-01  2.42535625e-01]\n",
      " [-6.01440881e-01  5.06605850e-01  6.17753494e-01 -1.44328993e-15]]\n",
      " and with shape (4, 4)\n",
      "we have matrix S = \n",
      "[[12.49789499  0.          0.        ]\n",
      " [ 0.          1.23098537  0.        ]\n",
      " [ 0.          0.          0.53599988]\n",
      " [ 0.          0.          0.        ]]\n",
      " and with shape (4, 3)\n",
      "we have matrix VT = \n",
      "[[-0.51489647 -0.60782554 -0.60450785]\n",
      " [ 0.55486191  0.30122956 -0.77549276]\n",
      " [-0.65345993  0.73471687 -0.1821572 ]]\n",
      " and with shape (3, 3)\n",
      "A_approximate \n",
      "[[1. 1. 1.]\n",
      " [3. 4. 5.]\n",
      " [4. 4. 4.]\n",
      " [4. 5. 4.]] with rank 3\n",
      "\n",
      "delta = \n",
      "7.73260573321981e-15\n"
     ]
    }
   ],
   "source": [
    "A_approximate_matrix = A_approximate(3)\n",
    "print(f\"A_approximate \\n{A_approximate_matrix } with rank {np.linalg.matrix_rank(A_approximate_matrix)}\\n\")\n",
    "print(f\"delta = \\n{np.linalg.norm(A - A_approximate_matrix )}\")"
   ]
  },
  {
   "cell_type": "code",
   "execution_count": 101,
   "metadata": {},
   "outputs": [
    {
     "name": "stdout",
     "output_type": "stream",
     "text": [
      "number of singular values K = \n",
      "2\n",
      "\n",
      "we have matrix U = \n",
      "[[-1.38201662e-01  6.54749524e-02 -1.88246808e-01 -9.70142500e-01]\n",
      " [-5.59976765e-01 -8.18823566e-01  1.26309104e-01 -1.33226763e-15]\n",
      " [-5.52806648e-01  2.61899810e-01 -7.52987231e-01  2.42535625e-01]\n",
      " [-6.01440881e-01  5.06605850e-01  6.17753494e-01 -1.44328993e-15]]\n",
      " and with shape (4, 4)\n",
      "we have matrix S = \n",
      "[[12.49789499  0.          0.        ]\n",
      " [ 0.          1.23098537  0.        ]\n",
      " [ 0.          0.          0.53599988]\n",
      " [ 0.          0.          0.        ]]\n",
      " and with shape (4, 3)\n",
      "we have matrix VT = \n",
      "[[-0.51489647 -0.60782554 -0.60450785]\n",
      " [ 0.55486191  0.30122956 -0.77549276]\n",
      " [-0.65345993  0.73471687 -0.1821572 ]]\n",
      " and with shape (3, 3)\n",
      "A_approximate \n",
      "[[0.93406572 1.07413313 0.98162029]\n",
      " [3.04424033 3.95025845 5.01233235]\n",
      " [3.73626287 4.29653251 3.92648116]\n",
      " [4.21637091 4.75672364 4.06031513]] with rank 2\n",
      "\n",
      "delta = \n",
      "0.5359998808909961\n"
     ]
    }
   ],
   "source": [
    "# construct A with approximate value using 2 singular values\n",
    "A_approximate_matrix = A_approximate(2)\n",
    "print(f\"A_approximate \\n{A_approximate_matrix } with rank {np.linalg.matrix_rank(A_approximate_matrix)}\\n\")\n",
    "print(f\"delta = \\n{np.linalg.norm(A - A_approximate_matrix )}\")"
   ]
  },
  {
   "cell_type": "markdown",
   "metadata": {},
   "source": [
    "#### (b) Repeat the previous steps in (a) for the following matrix"
   ]
  },
  {
   "cell_type": "code",
   "execution_count": 102,
   "metadata": {},
   "outputs": [
    {
     "name": "stdout",
     "output_type": "stream",
     "text": [
      "n=  8\n",
      "---------------------------------------------\n",
      "m =  5\n",
      "---------------------------------------------\n",
      "rank =  3\n",
      "---------------------------------------------\n",
      "A = \n",
      " [[1 1 1 0 1]\n",
      " [3 4 5 1 0]\n",
      " [4 4 4 0 1]\n",
      " [4 5 4 1 1]\n",
      " [4 6 4 0 1]\n",
      " [4 7 4 1 1]\n",
      " [4 8 4 0 1]\n",
      " [4 9 4 1 0]]\n"
     ]
    }
   ],
   "source": [
    "A = np.array([[1, 1, 1, 0, 1],\n",
    "              [3, 4, 5, 1, 0],\n",
    "              [4, 4, 4, 0, 1],                            \n",
    "              [4, 5, 4, 1, 1],                            \n",
    "              [4, 6, 4, 0, 1],                            \n",
    "              [4, 7, 4, 1, 1],                            \n",
    "              [4, 8, 4, 0, 1],                            \n",
    "              [4, 9, 4, 1, 0],                            \n",
    "              ])\n",
    "\n",
    "n, m=A.shape\n",
    "print(\"n= \", n)\n",
    "print(\"---------------------------------------------\")\n",
    "print(\"m = \", m)\n",
    "print(\"---------------------------------------------\")\n",
    "print(\"rank = \", rank)\n",
    "print(\"---------------------------------------------\")\n",
    "print(\"A = \\n\", A)"
   ]
  },
  {
   "cell_type": "code",
   "execution_count": 103,
   "metadata": {},
   "outputs": [
    {
     "name": "stdout",
     "output_type": "stream",
     "text": [
      " U = \n",
      "[[-0.078  0.153 -0.353  0.229  0.577 -0.422 -0.346  0.404]\n",
      " [-0.301  0.521  0.679 -0.252  0.337  0.     0.     0.   ]\n",
      " [-0.301  0.464 -0.327 -0.22  -0.489  0.117  0.111  0.523]\n",
      " [-0.337  0.283 -0.042  0.582 -0.218 -0.41   0.298 -0.401]\n",
      " [-0.367  0.075 -0.302 -0.308 -0.065  0.07  -0.608 -0.543]\n",
      " [-0.403 -0.105 -0.017  0.495  0.206  0.727 -0.039  0.098]\n",
      " [-0.433 -0.314 -0.276 -0.396  0.359 -0.082  0.583 -0.08 ]\n",
      " [-0.465 -0.544  0.371  0.028 -0.302 -0.316 -0.26   0.303]]\n",
      "\n",
      " s = \n",
      "[22.57699942  3.35144935  1.90842851  1.00414786  0.62966044]\n",
      "\n",
      "VT = \n",
      "[[-0.45161209 -0.74541953 -0.4782719  -0.06665752 -0.08490591]\n",
      " [ 0.34372285 -0.65113632  0.65440094  0.04617323  0.16584191]\n",
      " [-0.36014096  0.02458908  0.35185784  0.51936256 -0.69003801]\n",
      " [ 0.19757174 -0.04402548 -0.30385545  0.84986617  0.38003491]\n",
      " [-0.713558    0.13352287  0.35620687  0.03761424  0.58711878]]\n",
      "\n"
     ]
    }
   ],
   "source": [
    "# get left values matrix and singular values and right values\n",
    "U, s, VT = np.linalg.svd(A, full_matrices=True)\n",
    "print(f\" U = \\n{np.round(U, 3)}\\n\")\n",
    "print(f\" s = \\n{s}\\n\")\n",
    "print(f\"VT = \\n{VT}\\n\")"
   ]
  },
  {
   "cell_type": "code",
   "execution_count": 104,
   "metadata": {},
   "outputs": [],
   "source": [
    "# U->shape = (8,8)\n",
    "# S->shape = (1,5)===========> should be converted to (8,5)\n",
    "# v.T->shape = (5,5)"
   ]
  },
  {
   "cell_type": "code",
   "execution_count": 105,
   "metadata": {},
   "outputs": [
    {
     "name": "stdout",
     "output_type": "stream",
     "text": [
      "we have matrix S = \n",
      "[[22.57699942  0.          0.          0.          0.        ]\n",
      " [ 0.          3.35144935  0.          0.          0.        ]\n",
      " [ 0.          0.          1.90842851  0.          0.        ]\n",
      " [ 0.          0.          0.          1.00414786  0.        ]\n",
      " [ 0.          0.          0.          0.          0.62966044]\n",
      " [ 0.          0.          0.          0.          0.        ]\n",
      " [ 0.          0.          0.          0.          0.        ]\n",
      " [ 0.          0.          0.          0.          0.        ]]\n",
      " and with shape (8, 5)\n"
     ]
    }
   ],
   "source": [
    "# modify the shape of s\n",
    "# make diagonal matrix of s \n",
    "diagonal_form = np.diag(s) #====> shape(5,5)\n",
    "S = np.vstack([diagonal_form,np.zeros((3,5))])\n",
    "print(f\"we have matrix S = \\n{S}\\n and with shape {S.shape}\")"
   ]
  },
  {
   "cell_type": "code",
   "execution_count": 106,
   "metadata": {},
   "outputs": [
    {
     "name": "stdout",
     "output_type": "stream",
     "text": [
      " reconstruct_A  = \n",
      "[[ 1.  1.  1. -0.  1.]\n",
      " [ 3.  4.  5.  1. -0.]\n",
      " [ 4.  4.  4. -0.  1.]\n",
      " [ 4.  5.  4.  1.  1.]\n",
      " [ 4.  6.  4. -0.  1.]\n",
      " [ 4.  7.  4.  1.  1.]\n",
      " [ 4.  8.  4. -0.  1.]\n",
      " [ 4.  9.  4.  1. -0.]]\n",
      "\n",
      " A  = \n",
      "[[1 1 1 0 1]\n",
      " [3 4 5 1 0]\n",
      " [4 4 4 0 1]\n",
      " [4 5 4 1 1]\n",
      " [4 6 4 0 1]\n",
      " [4 7 4 1 1]\n",
      " [4 8 4 0 1]\n",
      " [4 9 4 1 0]]\n",
      "\n"
     ]
    }
   ],
   "source": [
    "# so now we can get A from the equation \n",
    "reconstruct_A = U @ S @ VT\n",
    "print(f\" reconstruct_A  = \\n{np.round(reconstruct_A , 3)}\\n\")\n",
    "print(f\" A  = \\n{np.round(A , 3)}\\n\")"
   ]
  },
  {
   "cell_type": "code",
   "execution_count": 107,
   "metadata": {},
   "outputs": [],
   "source": [
    "def A_approximate(k):\n",
    "    U_dash = U[:,:k]\n",
    "    S_dash = S[:k,:k]\n",
    "    VT_dash = VT[:k,:]\n",
    "    print(f\"number of singular values K = \\n{k}\\n\")\n",
    "    print(f\"we have matrix U = \\n{U}\\n and with shape {U.shape}\")\n",
    "    print(f\"we have matrix S = \\n{S}\\n and with shape {S.shape}\")\n",
    "    print(f\"we have matrix VT = \\n{VT}\\n and with shape {VT.shape}\")\n",
    "    return U_dash @ S_dash @ VT_dash"
   ]
  },
  {
   "cell_type": "code",
   "execution_count": 108,
   "metadata": {},
   "outputs": [
    {
     "name": "stdout",
     "output_type": "stream",
     "text": [
      "number of singular values K = \n",
      "5\n",
      "\n",
      "we have matrix U = \n",
      "[[-7.79647196e-02  1.53017197e-01 -3.53029757e-01  2.28776787e-01\n",
      "   5.76962582e-01 -4.21743952e-01 -3.46284476e-01  4.03573651e-01]\n",
      " [-3.00949266e-01  5.20610942e-01  6.79399402e-01 -2.51753516e-01\n",
      "   3.36794308e-01  1.24900090e-16  1.24900090e-16  1.11022302e-16]\n",
      " [-3.00576700e-01  4.63617867e-01 -3.27397215e-01 -2.20288109e-01\n",
      "  -4.89461080e-01  1.17390447e-01  1.11468386e-01  5.22703038e-01]\n",
      " [-3.36545919e-01  2.83109965e-01 -4.23712681e-02  5.82223875e-01\n",
      "  -2.17668378e-01 -4.10437192e-01  2.98471402e-01 -4.01101281e-01]\n",
      " [-3.66610234e-01  7.50478785e-02 -3.01628285e-01 -3.07975353e-01\n",
      "  -6.53503597e-02  7.02203098e-02 -6.07979292e-01 -5.43411383e-01]\n",
      " [-4.02579453e-01 -1.05460024e-01 -1.66023380e-02  4.94536632e-01\n",
      "   2.06442342e-01  7.26745156e-01 -3.87580446e-02  9.84210424e-02]\n",
      " [-4.32643767e-01 -3.13522110e-01 -2.75859355e-01 -3.95662596e-01\n",
      "   3.58760361e-01 -8.21747690e-02  5.83082026e-01 -8.01850680e-02]\n",
      " [-4.64852261e-01 -5.43513653e-01  3.70740529e-01  2.83843017e-02\n",
      "  -3.01884073e-01 -3.16307964e-01 -2.59713357e-01  3.02680238e-01]]\n",
      " and with shape (8, 8)\n",
      "we have matrix S = \n",
      "[[22.57699942  0.          0.          0.          0.        ]\n",
      " [ 0.          3.35144935  0.          0.          0.        ]\n",
      " [ 0.          0.          1.90842851  0.          0.        ]\n",
      " [ 0.          0.          0.          1.00414786  0.        ]\n",
      " [ 0.          0.          0.          0.          0.62966044]\n",
      " [ 0.          0.          0.          0.          0.        ]\n",
      " [ 0.          0.          0.          0.          0.        ]\n",
      " [ 0.          0.          0.          0.          0.        ]]\n",
      " and with shape (8, 5)\n",
      "we have matrix VT = \n",
      "[[-0.45161209 -0.74541953 -0.4782719  -0.06665752 -0.08490591]\n",
      " [ 0.34372285 -0.65113632  0.65440094  0.04617323  0.16584191]\n",
      " [-0.36014096  0.02458908  0.35185784  0.51936256 -0.69003801]\n",
      " [ 0.19757174 -0.04402548 -0.30385545  0.84986617  0.38003491]\n",
      " [-0.713558    0.13352287  0.35620687  0.03761424  0.58711878]]\n",
      " and with shape (5, 5)\n",
      "A_approximate \n",
      "[[ 1.00000000e+00  1.00000000e+00  1.00000000e+00 -8.98586761e-16\n",
      "   1.00000000e+00]\n",
      " [ 3.00000000e+00  4.00000000e+00  5.00000000e+00  1.00000000e+00\n",
      "  -8.32667268e-16]\n",
      " [ 4.00000000e+00  4.00000000e+00  4.00000000e+00 -7.19910243e-16\n",
      "   1.00000000e+00]\n",
      " [ 4.00000000e+00  5.00000000e+00  4.00000000e+00  1.00000000e+00\n",
      "   1.00000000e+00]\n",
      " [ 4.00000000e+00  6.00000000e+00  4.00000000e+00 -9.20487644e-16\n",
      "   1.00000000e+00]\n",
      " [ 4.00000000e+00  7.00000000e+00  4.00000000e+00  1.00000000e+00\n",
      "   1.00000000e+00]\n",
      " [ 4.00000000e+00  8.00000000e+00  4.00000000e+00 -7.02563008e-16\n",
      "   1.00000000e+00]\n",
      " [ 4.00000000e+00  9.00000000e+00  4.00000000e+00  1.00000000e+00\n",
      "  -1.04083409e-15]] with rank 5\n",
      "\n",
      "delta = \n",
      "2.4191013934821674e-14\n"
     ]
    }
   ],
   "source": [
    "A_approximate_matrix = A_approximate(5)\n",
    "print(f\"A_approximate \\n{A_approximate_matrix } with rank {np.linalg.matrix_rank(A_approximate_matrix)}\\n\")\n",
    "print(f\"delta = \\n{np.linalg.norm(A - A_approximate_matrix )}\")"
   ]
  },
  {
   "cell_type": "code",
   "execution_count": 109,
   "metadata": {},
   "outputs": [
    {
     "name": "stdout",
     "output_type": "stream",
     "text": [
      "number of singular values K = \n",
      "4\n",
      "\n",
      "we have matrix U = \n",
      "[[-7.79647196e-02  1.53017197e-01 -3.53029757e-01  2.28776787e-01\n",
      "   5.76962582e-01 -4.21743952e-01 -3.46284476e-01  4.03573651e-01]\n",
      " [-3.00949266e-01  5.20610942e-01  6.79399402e-01 -2.51753516e-01\n",
      "   3.36794308e-01  1.24900090e-16  1.24900090e-16  1.11022302e-16]\n",
      " [-3.00576700e-01  4.63617867e-01 -3.27397215e-01 -2.20288109e-01\n",
      "  -4.89461080e-01  1.17390447e-01  1.11468386e-01  5.22703038e-01]\n",
      " [-3.36545919e-01  2.83109965e-01 -4.23712681e-02  5.82223875e-01\n",
      "  -2.17668378e-01 -4.10437192e-01  2.98471402e-01 -4.01101281e-01]\n",
      " [-3.66610234e-01  7.50478785e-02 -3.01628285e-01 -3.07975353e-01\n",
      "  -6.53503597e-02  7.02203098e-02 -6.07979292e-01 -5.43411383e-01]\n",
      " [-4.02579453e-01 -1.05460024e-01 -1.66023380e-02  4.94536632e-01\n",
      "   2.06442342e-01  7.26745156e-01 -3.87580446e-02  9.84210424e-02]\n",
      " [-4.32643767e-01 -3.13522110e-01 -2.75859355e-01 -3.95662596e-01\n",
      "   3.58760361e-01 -8.21747690e-02  5.83082026e-01 -8.01850680e-02]\n",
      " [-4.64852261e-01 -5.43513653e-01  3.70740529e-01  2.83843017e-02\n",
      "  -3.01884073e-01 -3.16307964e-01 -2.59713357e-01  3.02680238e-01]]\n",
      " and with shape (8, 8)\n",
      "we have matrix S = \n",
      "[[22.57699942  0.          0.          0.          0.        ]\n",
      " [ 0.          3.35144935  0.          0.          0.        ]\n",
      " [ 0.          0.          1.90842851  0.          0.        ]\n",
      " [ 0.          0.          0.          1.00414786  0.        ]\n",
      " [ 0.          0.          0.          0.          0.62966044]\n",
      " [ 0.          0.          0.          0.          0.        ]\n",
      " [ 0.          0.          0.          0.          0.        ]\n",
      " [ 0.          0.          0.          0.          0.        ]]\n",
      " and with shape (8, 5)\n",
      "we have matrix VT = \n",
      "[[-0.45161209 -0.74541953 -0.4782719  -0.06665752 -0.08490591]\n",
      " [ 0.34372285 -0.65113632  0.65440094  0.04617323  0.16584191]\n",
      " [-0.36014096  0.02458908  0.35185784  0.51936256 -0.69003801]\n",
      " [ 0.19757174 -0.04402548 -0.30385545  0.84986617  0.38003491]\n",
      " [-0.713558    0.13352287  0.35620687  0.03761424  0.58711878]]\n",
      " and with shape (5, 5)\n",
      "A_approximate \n",
      "[[ 1.25922885e+00  9.51492408e-01  8.70593425e-01 -1.36648969e-02\n",
      "   7.86705318e-01]\n",
      " [ 3.15132143e+00  3.97168433e+00  4.92446062e+00  9.92023296e-01\n",
      "  -1.24507961e-01]\n",
      " [ 3.78008551e+00  4.04115099e+00  4.10978092e+00  1.15924939e-02\n",
      "   1.18094665e+00]\n",
      " [ 3.90220176e+00  5.01830027e+00  4.04882070e+00  1.00515530e+00\n",
      "   1.08046884e+00]\n",
      " [ 3.97063813e+00  6.00549427e+00  4.01465739e+00  1.54777096e-03\n",
      "   1.02415908e+00]\n",
      " [ 4.09275439e+00  6.98264355e+00  3.95369718e+00  9.95110578e-01\n",
      "   9.23681266e-01]\n",
      " [ 4.16119076e+00  7.96983756e+00  3.91953386e+00 -8.49695197e-03\n",
      "   8.67371508e-01]\n",
      " [ 3.86436371e+00  9.02538062e+00  4.06770939e+00  1.00714988e+00\n",
      "   1.11602155e-01]] with rank 4\n",
      "\n",
      "delta = \n",
      "0.6296604396728644\n"
     ]
    }
   ],
   "source": [
    "A_approximate_matrix = A_approximate(4)\n",
    "print(f\"A_approximate \\n{A_approximate_matrix } with rank {np.linalg.matrix_rank(A_approximate_matrix)}\\n\")\n",
    "print(f\"delta = \\n{np.linalg.norm(A - A_approximate_matrix )}\")"
   ]
  },
  {
   "cell_type": "code",
   "execution_count": 110,
   "metadata": {},
   "outputs": [
    {
     "name": "stdout",
     "output_type": "stream",
     "text": [
      "number of singular values K = \n",
      "3\n",
      "\n",
      "we have matrix U = \n",
      "[[-7.79647196e-02  1.53017197e-01 -3.53029757e-01  2.28776787e-01\n",
      "   5.76962582e-01 -4.21743952e-01 -3.46284476e-01  4.03573651e-01]\n",
      " [-3.00949266e-01  5.20610942e-01  6.79399402e-01 -2.51753516e-01\n",
      "   3.36794308e-01  1.24900090e-16  1.24900090e-16  1.11022302e-16]\n",
      " [-3.00576700e-01  4.63617867e-01 -3.27397215e-01 -2.20288109e-01\n",
      "  -4.89461080e-01  1.17390447e-01  1.11468386e-01  5.22703038e-01]\n",
      " [-3.36545919e-01  2.83109965e-01 -4.23712681e-02  5.82223875e-01\n",
      "  -2.17668378e-01 -4.10437192e-01  2.98471402e-01 -4.01101281e-01]\n",
      " [-3.66610234e-01  7.50478785e-02 -3.01628285e-01 -3.07975353e-01\n",
      "  -6.53503597e-02  7.02203098e-02 -6.07979292e-01 -5.43411383e-01]\n",
      " [-4.02579453e-01 -1.05460024e-01 -1.66023380e-02  4.94536632e-01\n",
      "   2.06442342e-01  7.26745156e-01 -3.87580446e-02  9.84210424e-02]\n",
      " [-4.32643767e-01 -3.13522110e-01 -2.75859355e-01 -3.95662596e-01\n",
      "   3.58760361e-01 -8.21747690e-02  5.83082026e-01 -8.01850680e-02]\n",
      " [-4.64852261e-01 -5.43513653e-01  3.70740529e-01  2.83843017e-02\n",
      "  -3.01884073e-01 -3.16307964e-01 -2.59713357e-01  3.02680238e-01]]\n",
      " and with shape (8, 8)\n",
      "we have matrix S = \n",
      "[[22.57699942  0.          0.          0.          0.        ]\n",
      " [ 0.          3.35144935  0.          0.          0.        ]\n",
      " [ 0.          0.          1.90842851  0.          0.        ]\n",
      " [ 0.          0.          0.          1.00414786  0.        ]\n",
      " [ 0.          0.          0.          0.          0.62966044]\n",
      " [ 0.          0.          0.          0.          0.        ]\n",
      " [ 0.          0.          0.          0.          0.        ]\n",
      " [ 0.          0.          0.          0.          0.        ]]\n",
      " and with shape (8, 5)\n",
      "we have matrix VT = \n",
      "[[-0.45161209 -0.74541953 -0.4782719  -0.06665752 -0.08490591]\n",
      " [ 0.34372285 -0.65113632  0.65440094  0.04617323  0.16584191]\n",
      " [-0.36014096  0.02458908  0.35185784  0.51936256 -0.69003801]\n",
      " [ 0.19757174 -0.04402548 -0.30385545  0.84986617  0.38003491]\n",
      " [-0.713558    0.13352287  0.35620687  0.03761424  0.58711878]]\n",
      " and with shape (5, 5)\n",
      "A_approximate \n",
      "[[ 1.21384154  0.96160619  0.94039684 -0.20890102  0.69940153]\n",
      " [ 3.20126712  3.96055479  4.84764664  1.20686756 -0.02843599]\n",
      " [ 3.82378874  4.03141247  4.04256754  0.19958445  1.26501107]\n",
      " [ 3.78669365  5.04403927  4.2264664   0.50829052  0.85828566]\n",
      " [ 4.03173774  5.99187927  3.92068925  0.26437126  1.14168593]\n",
      " [ 3.99464265  7.00450607  4.10458811  0.57307732  0.73496053]\n",
      " [ 4.23968675  7.95234607  3.79881096  0.32915806  1.0183608 ]\n",
      " [ 3.85873252  9.02663544  4.07636989  0.98292697  0.10077039]] with rank 3\n",
      "\n",
      "delta = \n",
      "1.1852363429368313\n"
     ]
    }
   ],
   "source": [
    "A_approximate_matrix = A_approximate(3)\n",
    "print(f\"A_approximate \\n{A_approximate_matrix } with rank {np.linalg.matrix_rank(A_approximate_matrix)}\\n\")\n",
    "print(f\"delta = \\n{np.linalg.norm(A - A_approximate_matrix )}\")"
   ]
  },
  {
   "cell_type": "code",
   "execution_count": 111,
   "metadata": {},
   "outputs": [
    {
     "name": "stdout",
     "output_type": "stream",
     "text": [
      "number of singular values K = \n",
      "2\n",
      "\n",
      "we have matrix U = \n",
      "[[-7.79647196e-02  1.53017197e-01 -3.53029757e-01  2.28776787e-01\n",
      "   5.76962582e-01 -4.21743952e-01 -3.46284476e-01  4.03573651e-01]\n",
      " [-3.00949266e-01  5.20610942e-01  6.79399402e-01 -2.51753516e-01\n",
      "   3.36794308e-01  1.24900090e-16  1.24900090e-16  1.11022302e-16]\n",
      " [-3.00576700e-01  4.63617867e-01 -3.27397215e-01 -2.20288109e-01\n",
      "  -4.89461080e-01  1.17390447e-01  1.11468386e-01  5.22703038e-01]\n",
      " [-3.36545919e-01  2.83109965e-01 -4.23712681e-02  5.82223875e-01\n",
      "  -2.17668378e-01 -4.10437192e-01  2.98471402e-01 -4.01101281e-01]\n",
      " [-3.66610234e-01  7.50478785e-02 -3.01628285e-01 -3.07975353e-01\n",
      "  -6.53503597e-02  7.02203098e-02 -6.07979292e-01 -5.43411383e-01]\n",
      " [-4.02579453e-01 -1.05460024e-01 -1.66023380e-02  4.94536632e-01\n",
      "   2.06442342e-01  7.26745156e-01 -3.87580446e-02  9.84210424e-02]\n",
      " [-4.32643767e-01 -3.13522110e-01 -2.75859355e-01 -3.95662596e-01\n",
      "   3.58760361e-01 -8.21747690e-02  5.83082026e-01 -8.01850680e-02]\n",
      " [-4.64852261e-01 -5.43513653e-01  3.70740529e-01  2.83843017e-02\n",
      "  -3.01884073e-01 -3.16307964e-01 -2.59713357e-01  3.02680238e-01]]\n",
      " and with shape (8, 8)\n",
      "we have matrix S = \n",
      "[[22.57699942  0.          0.          0.          0.        ]\n",
      " [ 0.          3.35144935  0.          0.          0.        ]\n",
      " [ 0.          0.          1.90842851  0.          0.        ]\n",
      " [ 0.          0.          0.          1.00414786  0.        ]\n",
      " [ 0.          0.          0.          0.          0.62966044]\n",
      " [ 0.          0.          0.          0.          0.        ]\n",
      " [ 0.          0.          0.          0.          0.        ]\n",
      " [ 0.          0.          0.          0.          0.        ]]\n",
      " and with shape (8, 5)\n",
      "we have matrix VT = \n",
      "[[-0.45161209 -0.74541953 -0.4782719  -0.06665752 -0.08490591]\n",
      " [ 0.34372285 -0.65113632  0.65440094  0.04617323  0.16584191]\n",
      " [-0.36014096  0.02458908  0.35185784  0.51936256 -0.69003801]\n",
      " [ 0.19757174 -0.04402548 -0.30385545  0.84986617  0.38003491]\n",
      " [-0.713558    0.13352287  0.35620687  0.03761424  0.58711878]]\n",
      " and with shape (5, 5)\n",
      "A_approximate \n",
      "[[0.97120303 0.97817264 1.17745474 0.14101019 0.2345008 ]\n",
      " [3.66822055 3.92867295 4.39143298 0.53346975 0.86625708]\n",
      " [3.59876756 4.04677607 4.2624133  0.52408954 0.83386553]\n",
      " [3.75757173 5.04602761 4.25491852 0.55028749 0.80248744]\n",
      " [3.82442764 6.00603363 4.12323129 0.56333505 0.7444752 ]\n",
      " [3.98323181 7.00528516 4.11573651 0.589533   0.71309711]\n",
      " [4.05008771 7.96529118 3.98404928 0.60258057 0.65508487]\n",
      " [4.1135437  9.00923788 3.82741928 0.61546144 0.58899422]] with rank 2\n",
      "\n",
      "delta = \n",
      "2.2465272268175456\n"
     ]
    }
   ],
   "source": [
    "A_approximate_matrix = A_approximate(2)\n",
    "print(f\"A_approximate \\n{A_approximate_matrix } with rank {np.linalg.matrix_rank(A_approximate_matrix)}\\n\")\n",
    "print(f\"delta = \\n{np.linalg.norm(A - A_approximate_matrix )}\")"
   ]
  },
  {
   "cell_type": "code",
   "execution_count": 112,
   "metadata": {},
   "outputs": [
    {
     "name": "stdout",
     "output_type": "stream",
     "text": [
      "number of singular values K = \n",
      "1\n",
      "\n",
      "we have matrix U = \n",
      "[[-7.79647196e-02  1.53017197e-01 -3.53029757e-01  2.28776787e-01\n",
      "   5.76962582e-01 -4.21743952e-01 -3.46284476e-01  4.03573651e-01]\n",
      " [-3.00949266e-01  5.20610942e-01  6.79399402e-01 -2.51753516e-01\n",
      "   3.36794308e-01  1.24900090e-16  1.24900090e-16  1.11022302e-16]\n",
      " [-3.00576700e-01  4.63617867e-01 -3.27397215e-01 -2.20288109e-01\n",
      "  -4.89461080e-01  1.17390447e-01  1.11468386e-01  5.22703038e-01]\n",
      " [-3.36545919e-01  2.83109965e-01 -4.23712681e-02  5.82223875e-01\n",
      "  -2.17668378e-01 -4.10437192e-01  2.98471402e-01 -4.01101281e-01]\n",
      " [-3.66610234e-01  7.50478785e-02 -3.01628285e-01 -3.07975353e-01\n",
      "  -6.53503597e-02  7.02203098e-02 -6.07979292e-01 -5.43411383e-01]\n",
      " [-4.02579453e-01 -1.05460024e-01 -1.66023380e-02  4.94536632e-01\n",
      "   2.06442342e-01  7.26745156e-01 -3.87580446e-02  9.84210424e-02]\n",
      " [-4.32643767e-01 -3.13522110e-01 -2.75859355e-01 -3.95662596e-01\n",
      "   3.58760361e-01 -8.21747690e-02  5.83082026e-01 -8.01850680e-02]\n",
      " [-4.64852261e-01 -5.43513653e-01  3.70740529e-01  2.83843017e-02\n",
      "  -3.01884073e-01 -3.16307964e-01 -2.59713357e-01  3.02680238e-01]]\n",
      " and with shape (8, 8)\n",
      "we have matrix S = \n",
      "[[22.57699942  0.          0.          0.          0.        ]\n",
      " [ 0.          3.35144935  0.          0.          0.        ]\n",
      " [ 0.          0.          1.90842851  0.          0.        ]\n",
      " [ 0.          0.          0.          1.00414786  0.        ]\n",
      " [ 0.          0.          0.          0.          0.62966044]\n",
      " [ 0.          0.          0.          0.          0.        ]\n",
      " [ 0.          0.          0.          0.          0.        ]\n",
      " [ 0.          0.          0.          0.          0.        ]]\n",
      " and with shape (8, 5)\n",
      "we have matrix VT = \n",
      "[[-0.45161209 -0.74541953 -0.4782719  -0.06665752 -0.08490591]\n",
      " [ 0.34372285 -0.65113632  0.65440094  0.04617323  0.16584191]\n",
      " [-0.36014096  0.02458908  0.35185784  0.51936256 -0.69003801]\n",
      " [ 0.19757174 -0.04402548 -0.30385545  0.84986617  0.38003491]\n",
      " [-0.713558    0.13352287  0.35620687  0.03761424  0.58711878]]\n",
      " and with shape (5, 5)\n",
      "A_approximate \n",
      "[[0.79493186 1.31209448 0.84185871 0.1173312  0.14945219]\n",
      " [3.06849251 5.06477638 3.24963343 0.45290665 0.57689591]\n",
      " [3.06469381 5.05850635 3.24561049 0.45234596 0.57618173]\n",
      " [3.43143763 5.66384444 3.63400412 0.50647701 0.64513187]\n",
      " [3.73797475 6.16980689 3.95863691 0.5517216  0.70276278]\n",
      " [4.10471857 6.77514498 4.34703055 0.60585265 0.77171293]\n",
      " [4.41125569 7.28110744 4.67166334 0.65109724 0.82934383]\n",
      " [4.73965497 7.823155   5.01944886 0.69956867 0.89108496]] with rank 1\n",
      "\n",
      "delta = \n",
      "4.034736338985961\n"
     ]
    }
   ],
   "source": [
    "A_approximate_matrix = A_approximate(1)\n",
    "print(f\"A_approximate \\n{A_approximate_matrix } with rank {np.linalg.matrix_rank(A_approximate_matrix)}\\n\")\n",
    "print(f\"delta = \\n{np.linalg.norm(A - A_approximate_matrix )}\")"
   ]
  }
 ],
 "metadata": {
  "kernelspec": {
   "display_name": "Python 3",
   "language": "python",
   "name": "python3"
  },
  "language_info": {
   "codemirror_mode": {
    "name": "ipython",
    "version": 3
   },
   "file_extension": ".py",
   "mimetype": "text/x-python",
   "name": "python",
   "nbconvert_exporter": "python",
   "pygments_lexer": "ipython3",
   "version": "3.7.4"
  }
 },
 "nbformat": 4,
 "nbformat_minor": 4
}
